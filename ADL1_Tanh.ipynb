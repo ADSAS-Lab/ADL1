{
 "cells": [
  {
   "cell_type": "code",
   "execution_count": 15,
   "metadata": {},
   "outputs": [],
   "source": [
    "# Load the TensorBoard notebook extension\n",
    "%reload_ext tensorboard\n",
    "\n",
    "import tensorflow as tf\n",
    "import datetime\n",
    "from tensorflow.keras import datasets, layers, models\n",
    "from tensorflow.keras.layers import LeakyReLU, BatchNormalization\n",
    "from tensorflow.keras.optimizers import Adam"
   ]
  },
  {
   "cell_type": "code",
   "execution_count": 16,
   "metadata": {},
   "outputs": [],
   "source": [
    "cifar = tf.keras.datasets.cifar10\n",
    "(x_train, y_train), (x_test, y_test) = cifar.load_data()\n",
    "\n",
    "x_train, x_test = x_train / 255.0, x_test / 255.0"
   ]
  },
  {
   "cell_type": "code",
   "execution_count": 17,
   "metadata": {},
   "outputs": [],
   "source": [
    "def build_model():\n",
    "    model = models.Sequential()\n",
    "    model.add(layers.Conv2D(32, (3, 3), activation='tanh', input_shape=(32, 32, 3), padding='same'))\n",
    "    model.add(BatchNormalization())\n",
    "    model.add(layers.MaxPooling2D((2, 2)))\n",
    "    model.add(layers.Conv2D(64, (3, 3), activation='tanh', padding='same'))\n",
    "    model.add(BatchNormalization())\n",
    "    model.add(layers.MaxPooling2D((2, 2)))\n",
    "    model.add(layers.Conv2D(64, (3, 3), activation='tanh', padding='same'))\n",
    "    model.add(BatchNormalization())\n",
    "    model.add(layers.Flatten())\n",
    "    model.add(layers.Dense(128, activation=LeakyReLU()))\n",
    "    model.add(BatchNormalization())\n",
    "    model.add(layers.Dense(10, activation='softmax'))\n",
    "    return model"
   ]
  },
  {
   "cell_type": "code",
   "execution_count": 20,
   "metadata": {},
   "outputs": [
    {
     "name": "stderr",
     "output_type": "stream",
     "text": [
      "WARNING:absl:At this time, the v2.11+ optimizer `tf.keras.optimizers.Adam` runs slowly on M1/M2 Macs, please use the legacy Keras optimizer instead, located at `tf.keras.optimizers.legacy.Adam`.\n",
      "WARNING:absl:There is a known slowdown when using v2.11+ Keras optimizers on M1/M2 Macs. Falling back to the legacy Keras optimizer, i.e., `tf.keras.optimizers.legacy.Adam`.\n"
     ]
    },
    {
     "name": "stdout",
     "output_type": "stream",
     "text": [
      "Model: \"sequential_2\"\n",
      "_________________________________________________________________\n",
      " Layer (type)                Output Shape              Param #   \n",
      "=================================================================\n",
      " conv2d_4 (Conv2D)           (None, 32, 32, 32)        896       \n",
      "                                                                 \n",
      " batch_normalization_4 (Batc  (None, 32, 32, 32)       128       \n",
      " hNormalization)                                                 \n",
      "                                                                 \n",
      " max_pooling2d_2 (MaxPooling  (None, 16, 16, 32)       0         \n",
      " 2D)                                                             \n",
      "                                                                 \n",
      " conv2d_5 (Conv2D)           (None, 16, 16, 64)        18496     \n",
      "                                                                 \n",
      " batch_normalization_5 (Batc  (None, 16, 16, 64)       256       \n",
      " hNormalization)                                                 \n",
      "                                                                 \n",
      " max_pooling2d_3 (MaxPooling  (None, 8, 8, 64)         0         \n",
      " 2D)                                                             \n",
      "                                                                 \n",
      " conv2d_6 (Conv2D)           (None, 8, 8, 64)          36928     \n",
      "                                                                 \n",
      " batch_normalization_6 (Batc  (None, 8, 8, 64)         256       \n",
      " hNormalization)                                                 \n",
      "                                                                 \n",
      " flatten_1 (Flatten)         (None, 4096)              0         \n",
      "                                                                 \n",
      " dense_2 (Dense)             (None, 128)               524416    \n",
      "                                                                 \n",
      " batch_normalization_7 (Batc  (None, 128)              512       \n",
      " hNormalization)                                                 \n",
      "                                                                 \n",
      " dense_3 (Dense)             (None, 10)                1290      \n",
      "                                                                 \n",
      "=================================================================\n",
      "Total params: 583,178\n",
      "Trainable params: 582,602\n",
      "Non-trainable params: 576\n",
      "_________________________________________________________________\n"
     ]
    }
   ],
   "source": [
    "model = build_model()\n",
    "model.compile(optimizer=Adam(0.0001),\n",
    "              loss=tf.keras.losses.SparseCategoricalCrossentropy(),\n",
    "              metrics=['accuracy'])\n",
    "model.summary()"
   ]
  },
  {
   "cell_type": "code",
   "execution_count": 21,
   "metadata": {},
   "outputs": [
    {
     "name": "stdout",
     "output_type": "stream",
     "text": [
      "Epoch 1/50\n",
      "1250/1250 [==============================] - 16s 13ms/step - loss: 1.4148 - accuracy: 0.5058 - val_loss: 1.1790 - val_accuracy: 0.5784\n",
      "Epoch 2/50\n",
      "1250/1250 [==============================] - 16s 13ms/step - loss: 1.0475 - accuracy: 0.6371 - val_loss: 1.1839 - val_accuracy: 0.5900\n",
      "Epoch 3/50\n",
      "1250/1250 [==============================] - 18s 14ms/step - loss: 0.9046 - accuracy: 0.6853 - val_loss: 0.9596 - val_accuracy: 0.6656\n",
      "Epoch 4/50\n",
      "1250/1250 [==============================] - 17s 14ms/step - loss: 0.8066 - accuracy: 0.7220 - val_loss: 1.0038 - val_accuracy: 0.6521\n",
      "Epoch 5/50\n",
      "1250/1250 [==============================] - 17s 14ms/step - loss: 0.7289 - accuracy: 0.7486 - val_loss: 0.9353 - val_accuracy: 0.6737\n",
      "Epoch 6/50\n",
      "1250/1250 [==============================] - 17s 14ms/step - loss: 0.6603 - accuracy: 0.7730 - val_loss: 1.0457 - val_accuracy: 0.6464\n",
      "Epoch 7/50\n",
      "1250/1250 [==============================] - 17s 14ms/step - loss: 0.5968 - accuracy: 0.7950 - val_loss: 0.9678 - val_accuracy: 0.6782\n",
      "Epoch 8/50\n",
      "1250/1250 [==============================] - 17s 14ms/step - loss: 0.5390 - accuracy: 0.8171 - val_loss: 1.0069 - val_accuracy: 0.6596\n",
      "Epoch 9/50\n",
      "1250/1250 [==============================] - 17s 13ms/step - loss: 0.4853 - accuracy: 0.8380 - val_loss: 0.9695 - val_accuracy: 0.6863\n",
      "Epoch 10/50\n",
      "1250/1250 [==============================] - 17s 14ms/step - loss: 0.4396 - accuracy: 0.8529 - val_loss: 0.9897 - val_accuracy: 0.6754\n",
      "Epoch 11/50\n",
      "1250/1250 [==============================] - 17s 14ms/step - loss: 0.3933 - accuracy: 0.8697 - val_loss: 1.0271 - val_accuracy: 0.6748\n",
      "Epoch 12/50\n",
      "1250/1250 [==============================] - 17s 13ms/step - loss: 0.3562 - accuracy: 0.8832 - val_loss: 1.0807 - val_accuracy: 0.6680\n",
      "Epoch 13/50\n",
      "1250/1250 [==============================] - 17s 14ms/step - loss: 0.3182 - accuracy: 0.8968 - val_loss: 1.0410 - val_accuracy: 0.6875\n",
      "Epoch 14/50\n",
      "1250/1250 [==============================] - 17s 14ms/step - loss: 0.2845 - accuracy: 0.9077 - val_loss: 1.0787 - val_accuracy: 0.6820\n",
      "Epoch 15/50\n",
      "1250/1250 [==============================] - 17s 14ms/step - loss: 0.2568 - accuracy: 0.9186 - val_loss: 1.1190 - val_accuracy: 0.6732\n",
      "Epoch 16/50\n",
      "1250/1250 [==============================] - 17s 13ms/step - loss: 0.2288 - accuracy: 0.9278 - val_loss: 1.1863 - val_accuracy: 0.6767\n",
      "Epoch 17/50\n",
      "1250/1250 [==============================] - 17s 14ms/step - loss: 0.2061 - accuracy: 0.9362 - val_loss: 1.1958 - val_accuracy: 0.6761\n",
      "Epoch 18/50\n",
      "1250/1250 [==============================] - 17s 14ms/step - loss: 0.1842 - accuracy: 0.9430 - val_loss: 1.2027 - val_accuracy: 0.6798\n",
      "Epoch 18: early stopping\n"
     ]
    }
   ],
   "source": [
    "# Clear any logs from previous runs\n",
    "!rm -rf ./logs/fit_Tanh_Adam/\n",
    "\n",
    "log_dir = \"logs/fit_Tanh_Adam/\" + datetime.datetime.now().strftime(\"%Y%m%d-%H%M%S\")\n",
    "checkpoint_dir = 'tmp/tanh_checkpoint'\n",
    "\n",
    "callbacks = [\n",
    "    tf.keras.callbacks.TensorBoard(\n",
    "        log_dir=log_dir, \n",
    "        histogram_freq=1),\n",
    "    tf.keras.callbacks.EarlyStopping(\n",
    "        monitor='val_accuracy', \n",
    "        patience=5,\n",
    "        mode='max',\n",
    "        verbose=1),\n",
    "    tf.keras.callbacks.ModelCheckpoint(\n",
    "        filepath=checkpoint_dir,\n",
    "        save_weights_only=True,\n",
    "        monitor='val_accuracy',\n",
    "        mode='max',\n",
    "        save_best_only=True),\n",
    "]\n",
    "\n",
    "history = model.fit(x_train, y_train, epochs=50, validation_split=0.2, callbacks=callbacks)"
   ]
  },
  {
   "cell_type": "code",
   "execution_count": 23,
   "metadata": {},
   "outputs": [
    {
     "name": "stdout",
     "output_type": "stream",
     "text": [
      "313/313 [==============================] - 3s 9ms/step - loss: 1.2068 - accuracy: 0.6809\n",
      "0.6809000372886658\n"
     ]
    }
   ],
   "source": [
    "test_loss, test_acc = model.evaluate(x_test,  y_test)\n",
    "print(test_acc)"
   ]
  },
  {
   "cell_type": "code",
   "execution_count": 12,
   "metadata": {},
   "outputs": [
    {
     "data": {
      "text/plain": [
       "Launching TensorBoard..."
      ]
     },
     "metadata": {},
     "output_type": "display_data"
    },
    {
     "data": {
      "text/html": [
       "\n",
       "      <iframe id=\"tensorboard-frame-ab8c6b22cf8275bc\" width=\"100%\" height=\"800\" frameborder=\"0\">\n",
       "      </iframe>\n",
       "      <script>\n",
       "        (function() {\n",
       "          const frame = document.getElementById(\"tensorboard-frame-ab8c6b22cf8275bc\");\n",
       "          const url = new URL(\"/\", window.location);\n",
       "          const port = 6006;\n",
       "          if (port) {\n",
       "            url.port = port;\n",
       "          }\n",
       "          frame.src = url;\n",
       "        })();\n",
       "      </script>\n",
       "    "
      ],
      "text/plain": [
       "<IPython.core.display.HTML object>"
      ]
     },
     "metadata": {},
     "output_type": "display_data"
    }
   ],
   "source": [
    "#/gradient_tape\n",
    "%tensorboard --logdir logs"
   ]
  },
  {
   "cell_type": "code",
   "execution_count": null,
   "metadata": {},
   "outputs": [],
   "source": []
  }
 ],
 "metadata": {
  "kernelspec": {
   "display_name": "Python 3 (ipykernel)",
   "language": "python",
   "name": "python3"
  },
  "language_info": {
   "codemirror_mode": {
    "name": "ipython",
    "version": 3
   },
   "file_extension": ".py",
   "mimetype": "text/x-python",
   "name": "python",
   "nbconvert_exporter": "python",
   "pygments_lexer": "ipython3",
   "version": "3.9.0"
  }
 },
 "nbformat": 4,
 "nbformat_minor": 1
}
