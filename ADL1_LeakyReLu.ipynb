{
 "cells": [
  {
   "cell_type": "code",
   "execution_count": null,
   "metadata": {
    "ExecuteTime": {
     "end_time": "2023-04-09T15:07:22.954286Z",
     "start_time": "2023-04-09T15:07:22.949586Z"
    },
    "collapsed": true,
    "pycharm": {
     "is_executing": true
    }
   },
   "outputs": [],
   "source": [
    "# Load the TensorBoard notebook extension\n",
    "%reload_ext tensorboard\n",
    "\n",
    "import tensorflow as tf\n",
    "import datetime\n",
    "from tensorflow.keras import datasets, layers, models\n",
    "from tensorflow.keras.layers import LeakyReLU, BatchNormalization\n",
    "from tensorflow.keras.optimizers import SGD, Adam"
   ]
  },
  {
   "cell_type": "code",
   "execution_count": 10,
   "metadata": {
    "ExecuteTime": {
     "end_time": "2023-04-09T15:07:28.743395Z",
     "start_time": "2023-04-09T15:07:28.334478Z"
    }
   },
   "outputs": [],
   "source": [
    "cifar = tf.keras.datasets.cifar10\n",
    "(x_train, y_train), (x_test, y_test) = cifar.load_data()\n",
    "\n",
    "x_train, x_test = x_train / 255.0, x_test / 255.0"
   ]
  },
  {
   "cell_type": "code",
   "execution_count": 19,
   "metadata": {
    "ExecuteTime": {
     "end_time": "2023-04-09T15:07:32.013938Z",
     "start_time": "2023-04-09T15:07:32.008304Z"
    }
   },
   "outputs": [],
   "source": [
    "def build_model():\n",
    "    model = models.Sequential()\n",
    "    model.add(layers.Conv2D(32, (3, 3), activation=LeakyReLU(), input_shape=(32, 32, 3), padding='same'))\n",
    "    model.add(BatchNormalization())\n",
    "    model.add(layers.MaxPooling2D((2, 2)))\n",
    "    model.add(layers.Conv2D(64, (3, 3), activation=LeakyReLU(), padding='same'))\n",
    "    model.add(BatchNormalization())\n",
    "    model.add(layers.MaxPooling2D((2, 2)))\n",
    "    model.add(layers.Conv2D(64, (3, 3), activation=LeakyReLU(), padding='same'))\n",
    "    model.add(BatchNormalization())\n",
    "    model.add(layers.Flatten())\n",
    "    model.add(layers.Dense(128, activation=LeakyReLU()))\n",
    "    model.add(BatchNormalization())\n",
    "    model.add(layers.Dense(10, activation='softmax'))\n",
    "    return model"
   ]
  },
  {
   "cell_type": "code",
   "execution_count": 30,
   "metadata": {
    "ExecuteTime": {
     "end_time": "2023-04-09T15:10:39.265701Z",
     "start_time": "2023-04-09T15:10:39.173997Z"
    }
   },
   "outputs": [
    {
     "name": "stderr",
     "output_type": "stream",
     "text": [
      "WARNING:absl:At this time, the v2.11+ optimizer `tf.keras.optimizers.SGD` runs slowly on M1/M2 Macs, please use the legacy Keras optimizer instead, located at `tf.keras.optimizers.legacy.SGD`.\n",
      "WARNING:absl:There is a known slowdown when using v2.11+ Keras optimizers on M1/M2 Macs. Falling back to the legacy Keras optimizer, i.e., `tf.keras.optimizers.legacy.SGD`.\n"
     ]
    },
    {
     "name": "stdout",
     "output_type": "stream",
     "text": [
      "Model: \"sequential_9\"\n",
      "_________________________________________________________________\n",
      " Layer (type)                Output Shape              Param #   \n",
      "=================================================================\n",
      " conv2d_27 (Conv2D)          (None, 32, 32, 32)        896       \n",
      "                                                                 \n",
      " batch_normalization_36 (Bat  (None, 32, 32, 32)       128       \n",
      " chNormalization)                                                \n",
      "                                                                 \n",
      " max_pooling2d_18 (MaxPoolin  (None, 16, 16, 32)       0         \n",
      " g2D)                                                            \n",
      "                                                                 \n",
      " conv2d_28 (Conv2D)          (None, 16, 16, 64)        18496     \n",
      "                                                                 \n",
      " batch_normalization_37 (Bat  (None, 16, 16, 64)       256       \n",
      " chNormalization)                                                \n",
      "                                                                 \n",
      " max_pooling2d_19 (MaxPoolin  (None, 8, 8, 64)         0         \n",
      " g2D)                                                            \n",
      "                                                                 \n",
      " conv2d_29 (Conv2D)          (None, 8, 8, 64)          36928     \n",
      "                                                                 \n",
      " batch_normalization_38 (Bat  (None, 8, 8, 64)         256       \n",
      " chNormalization)                                                \n",
      "                                                                 \n",
      " flatten_9 (Flatten)         (None, 4096)              0         \n",
      "                                                                 \n",
      " dense_18 (Dense)            (None, 128)               524416    \n",
      "                                                                 \n",
      " batch_normalization_39 (Bat  (None, 128)              512       \n",
      " chNormalization)                                                \n",
      "                                                                 \n",
      " dense_19 (Dense)            (None, 10)                1290      \n",
      "                                                                 \n",
      "=================================================================\n",
      "Total params: 583,178\n",
      "Trainable params: 582,602\n",
      "Non-trainable params: 576\n",
      "_________________________________________________________________\n"
     ]
    }
   ],
   "source": [
    "model = build_model()\n",
    "model.compile(optimizer=SGD(0.0001),\n",
    "              loss=tf.keras.losses.SparseCategoricalCrossentropy(),\n",
    "              metrics=['accuracy'])\n",
    "model.summary()"
   ]
  },
  {
   "cell_type": "code",
   "execution_count": 31,
   "metadata": {
    "ExecuteTime": {
     "end_time": "2023-04-09T15:16:06.305635Z",
     "start_time": "2023-04-09T15:10:53.230708Z"
    }
   },
   "outputs": [
    {
     "name": "stdout",
     "output_type": "stream",
     "text": [
      "Epoch 1/50\n",
      "1250/1250 [==============================] - 17s 13ms/step - loss: 2.2373 - accuracy: 0.2530 - val_loss: 1.9529 - val_accuracy: 0.3299\n",
      "Epoch 2/50\n",
      "1250/1250 [==============================] - 15s 12ms/step - loss: 1.8675 - accuracy: 0.3525 - val_loss: 1.7813 - val_accuracy: 0.3877\n",
      "Epoch 3/50\n",
      "1250/1250 [==============================] - 15s 12ms/step - loss: 1.7401 - accuracy: 0.3993 - val_loss: 1.6873 - val_accuracy: 0.4167\n",
      "Epoch 4/50\n",
      "1250/1250 [==============================] - 15s 12ms/step - loss: 1.6619 - accuracy: 0.4235 - val_loss: 1.6235 - val_accuracy: 0.4377\n",
      "Epoch 5/50\n",
      "1250/1250 [==============================] - 15s 12ms/step - loss: 1.6010 - accuracy: 0.4458 - val_loss: 1.5725 - val_accuracy: 0.4592\n",
      "Epoch 6/50\n",
      "1250/1250 [==============================] - 15s 12ms/step - loss: 1.5555 - accuracy: 0.4627 - val_loss: 1.5314 - val_accuracy: 0.4711\n",
      "Epoch 7/50\n",
      "1250/1250 [==============================] - 15s 12ms/step - loss: 1.5140 - accuracy: 0.4754 - val_loss: 1.4947 - val_accuracy: 0.4843\n",
      "Epoch 8/50\n",
      "1250/1250 [==============================] - 15s 12ms/step - loss: 1.4819 - accuracy: 0.4881 - val_loss: 1.4666 - val_accuracy: 0.4957\n",
      "Epoch 9/50\n",
      "1250/1250 [==============================] - 15s 12ms/step - loss: 1.4506 - accuracy: 0.4968 - val_loss: 1.4392 - val_accuracy: 0.4995\n",
      "Epoch 10/50\n",
      "1250/1250 [==============================] - 15s 12ms/step - loss: 1.4184 - accuracy: 0.5100 - val_loss: 1.4120 - val_accuracy: 0.5096\n",
      "Epoch 11/50\n",
      "1250/1250 [==============================] - 15s 12ms/step - loss: 1.3945 - accuracy: 0.5164 - val_loss: 1.3899 - val_accuracy: 0.5172\n",
      "Epoch 12/50\n",
      "1250/1250 [==============================] - 15s 12ms/step - loss: 1.3714 - accuracy: 0.5253 - val_loss: 1.3704 - val_accuracy: 0.5243\n",
      "Epoch 13/50\n",
      "1250/1250 [==============================] - 15s 12ms/step - loss: 1.3477 - accuracy: 0.5334 - val_loss: 1.3491 - val_accuracy: 0.5356\n",
      "Epoch 14/50\n",
      "1250/1250 [==============================] - 15s 12ms/step - loss: 1.3295 - accuracy: 0.5371 - val_loss: 1.3336 - val_accuracy: 0.5395\n",
      "Epoch 15/50\n",
      "1250/1250 [==============================] - 15s 12ms/step - loss: 1.3082 - accuracy: 0.5450 - val_loss: 1.3202 - val_accuracy: 0.5438\n",
      "Epoch 16/50\n",
      "1250/1250 [==============================] - 15s 12ms/step - loss: 1.2915 - accuracy: 0.5531 - val_loss: 1.3059 - val_accuracy: 0.5468\n",
      "Epoch 17/50\n",
      "1250/1250 [==============================] - 15s 12ms/step - loss: 1.2769 - accuracy: 0.5560 - val_loss: 1.2886 - val_accuracy: 0.5546\n",
      "Epoch 18/50\n",
      "1250/1250 [==============================] - 15s 12ms/step - loss: 1.2607 - accuracy: 0.5626 - val_loss: 1.3068 - val_accuracy: 0.5482\n",
      "Epoch 19/50\n",
      "1250/1250 [==============================] - 15s 12ms/step - loss: 1.2499 - accuracy: 0.5664 - val_loss: 1.2657 - val_accuracy: 0.5624\n",
      "Epoch 20/50\n",
      "1250/1250 [==============================] - 14s 12ms/step - loss: 1.2314 - accuracy: 0.5730 - val_loss: 1.2516 - val_accuracy: 0.5662\n",
      "Epoch 21/50\n",
      "1250/1250 [==============================] - 14s 11ms/step - loss: 1.2197 - accuracy: 0.5771 - val_loss: 1.2420 - val_accuracy: 0.5700\n",
      "Epoch 22/50\n",
      "1250/1250 [==============================] - 14s 11ms/step - loss: 1.2091 - accuracy: 0.5819 - val_loss: 1.2294 - val_accuracy: 0.5746\n",
      "Epoch 23/50\n",
      "1250/1250 [==============================] - 15s 12ms/step - loss: 1.1963 - accuracy: 0.5859 - val_loss: 1.2183 - val_accuracy: 0.5793\n",
      "Epoch 24/50\n",
      "1250/1250 [==============================] - 15s 12ms/step - loss: 1.1829 - accuracy: 0.5915 - val_loss: 1.2178 - val_accuracy: 0.5781\n",
      "Epoch 25/50\n",
      "1250/1250 [==============================] - 15s 12ms/step - loss: 1.1730 - accuracy: 0.5940 - val_loss: 1.2035 - val_accuracy: 0.5856\n",
      "Epoch 26/50\n",
      "1250/1250 [==============================] - 14s 11ms/step - loss: 1.1605 - accuracy: 0.5973 - val_loss: 1.1894 - val_accuracy: 0.5889\n",
      "Epoch 27/50\n",
      "1250/1250 [==============================] - 14s 11ms/step - loss: 1.1502 - accuracy: 0.6019 - val_loss: 1.1860 - val_accuracy: 0.5902\n",
      "Epoch 28/50\n",
      "1250/1250 [==============================] - 14s 11ms/step - loss: 1.1417 - accuracy: 0.6055 - val_loss: 1.1825 - val_accuracy: 0.5889\n",
      "Epoch 29/50\n",
      "1250/1250 [==============================] - 14s 11ms/step - loss: 1.1302 - accuracy: 0.6092 - val_loss: 1.1995 - val_accuracy: 0.5885\n",
      "Epoch 30/50\n",
      "1250/1250 [==============================] - 14s 11ms/step - loss: 1.1201 - accuracy: 0.6138 - val_loss: 1.1609 - val_accuracy: 0.5985\n",
      "Epoch 31/50\n",
      "1250/1250 [==============================] - 15s 12ms/step - loss: 1.1142 - accuracy: 0.6120 - val_loss: 1.1564 - val_accuracy: 0.5988\n",
      "Epoch 32/50\n",
      "1250/1250 [==============================] - 15s 12ms/step - loss: 1.1074 - accuracy: 0.6185 - val_loss: 1.1491 - val_accuracy: 0.6052\n",
      "Epoch 33/50\n",
      "1250/1250 [==============================] - 15s 12ms/step - loss: 1.0969 - accuracy: 0.6200 - val_loss: 1.1429 - val_accuracy: 0.6045\n",
      "Epoch 34/50\n",
      "1250/1250 [==============================] - 14s 11ms/step - loss: 1.0852 - accuracy: 0.6260 - val_loss: 1.1296 - val_accuracy: 0.6088\n",
      "Epoch 35/50\n",
      "1250/1250 [==============================] - 14s 11ms/step - loss: 1.0785 - accuracy: 0.6278 - val_loss: 1.1284 - val_accuracy: 0.6077\n",
      "Epoch 36/50\n",
      "1250/1250 [==============================] - 15s 12ms/step - loss: 1.0732 - accuracy: 0.6291 - val_loss: 1.1286 - val_accuracy: 0.6141\n",
      "Epoch 37/50\n",
      "1250/1250 [==============================] - 14s 12ms/step - loss: 1.0649 - accuracy: 0.6335 - val_loss: 1.1297 - val_accuracy: 0.6116\n",
      "Epoch 38/50\n",
      "1250/1250 [==============================] - 15s 12ms/step - loss: 1.0559 - accuracy: 0.6367 - val_loss: 1.1114 - val_accuracy: 0.6158\n",
      "Epoch 39/50\n",
      "1250/1250 [==============================] - 15s 12ms/step - loss: 1.0475 - accuracy: 0.6409 - val_loss: 1.1266 - val_accuracy: 0.6082\n",
      "Epoch 40/50\n",
      "1250/1250 [==============================] - 15s 12ms/step - loss: 1.0413 - accuracy: 0.6416 - val_loss: 1.1051 - val_accuracy: 0.6161\n",
      "Epoch 41/50\n",
      "1250/1250 [==============================] - 15s 12ms/step - loss: 1.0324 - accuracy: 0.6441 - val_loss: 1.0924 - val_accuracy: 0.6255\n",
      "Epoch 42/50\n",
      "1250/1250 [==============================] - 15s 12ms/step - loss: 1.0292 - accuracy: 0.6456 - val_loss: 1.0997 - val_accuracy: 0.6228\n",
      "Epoch 43/50\n",
      "1250/1250 [==============================] - 14s 12ms/step - loss: 1.0201 - accuracy: 0.6480 - val_loss: 1.0854 - val_accuracy: 0.6258\n",
      "Epoch 44/50\n",
      "1250/1250 [==============================] - 14s 12ms/step - loss: 1.0138 - accuracy: 0.6521 - val_loss: 1.1179 - val_accuracy: 0.6184\n",
      "Epoch 45/50\n",
      "1250/1250 [==============================] - 15s 12ms/step - loss: 1.0062 - accuracy: 0.6537 - val_loss: 1.0954 - val_accuracy: 0.6270\n",
      "Epoch 46/50\n",
      "1250/1250 [==============================] - 15s 12ms/step - loss: 1.0057 - accuracy: 0.6557 - val_loss: 1.0694 - val_accuracy: 0.6302\n",
      "Epoch 47/50\n",
      "1250/1250 [==============================] - 15s 12ms/step - loss: 0.9978 - accuracy: 0.6576 - val_loss: 1.0986 - val_accuracy: 0.6219\n",
      "Epoch 48/50\n",
      "1250/1250 [==============================] - 15s 12ms/step - loss: 0.9893 - accuracy: 0.6615 - val_loss: 1.0735 - val_accuracy: 0.6328\n",
      "Epoch 49/50\n",
      "1250/1250 [==============================] - 15s 12ms/step - loss: 0.9846 - accuracy: 0.6617 - val_loss: 1.0562 - val_accuracy: 0.6380\n",
      "Epoch 50/50\n",
      "1250/1250 [==============================] - 15s 12ms/step - loss: 0.9776 - accuracy: 0.6646 - val_loss: 1.0569 - val_accuracy: 0.6388\n"
     ]
    }
   ],
   "source": [
    "# Clear any logs from previous runs\n",
    "!rm -rf ./logs/fit_LeakyReLU_SGD/\n",
    "\n",
    "log_dir = \"logs/fit_LeakyReLU_SGD/\" + datetime.datetime.now().strftime(\"%Y%m%d-%H%M%S\")\n",
    "checkpoint_dir = 'tmp/sgd_checkpoint'\n",
    "\n",
    "callbacks = [\n",
    "    tf.keras.callbacks.TensorBoard(\n",
    "        log_dir=log_dir, \n",
    "        histogram_freq=1),\n",
    "    tf.keras.callbacks.EarlyStopping(\n",
    "        monitor='val_accuracy', \n",
    "        patience=5,\n",
    "        mode='max',\n",
    "        verbose=1),\n",
    "    tf.keras.callbacks.ModelCheckpoint(\n",
    "        filepath=checkpoint_dir,\n",
    "        save_weights_only=True,\n",
    "        monitor='val_accuracy',\n",
    "        mode='max',\n",
    "        save_best_only=True),\n",
    "]\n",
    "\n",
    "history = model.fit(x_train, y_train, epochs=50, validation_split=0.2, callbacks=callbacks)"
   ]
  },
  {
   "cell_type": "code",
   "execution_count": 32,
   "metadata": {},
   "outputs": [
    {
     "name": "stdout",
     "output_type": "stream",
     "text": [
      "313/313 [==============================] - 2s 6ms/step - loss: 1.0592 - accuracy: 0.6331\n",
      "0.6331000328063965\n"
     ]
    }
   ],
   "source": [
    "model.load_weights(checkpoint_dir)\n",
    "test_loss, test_acc = model.evaluate(x_test,  y_test)\n",
    "print(test_acc)"
   ]
  },
  {
   "cell_type": "code",
   "execution_count": 33,
   "metadata": {
    "ExecuteTime": {
     "end_time": "2023-04-09T14:52:51.515847Z",
     "start_time": "2023-04-09T14:52:51.416784Z"
    }
   },
   "outputs": [
    {
     "name": "stderr",
     "output_type": "stream",
     "text": [
      "WARNING:absl:At this time, the v2.11+ optimizer `tf.keras.optimizers.Adam` runs slowly on M1/M2 Macs, please use the legacy Keras optimizer instead, located at `tf.keras.optimizers.legacy.Adam`.\n",
      "WARNING:absl:There is a known slowdown when using v2.11+ Keras optimizers on M1/M2 Macs. Falling back to the legacy Keras optimizer, i.e., `tf.keras.optimizers.legacy.Adam`.\n"
     ]
    },
    {
     "name": "stdout",
     "output_type": "stream",
     "text": [
      "Model: \"sequential_10\"\n",
      "_________________________________________________________________\n",
      " Layer (type)                Output Shape              Param #   \n",
      "=================================================================\n",
      " conv2d_30 (Conv2D)          (None, 32, 32, 32)        896       \n",
      "                                                                 \n",
      " batch_normalization_40 (Bat  (None, 32, 32, 32)       128       \n",
      " chNormalization)                                                \n",
      "                                                                 \n",
      " max_pooling2d_20 (MaxPoolin  (None, 16, 16, 32)       0         \n",
      " g2D)                                                            \n",
      "                                                                 \n",
      " conv2d_31 (Conv2D)          (None, 16, 16, 64)        18496     \n",
      "                                                                 \n",
      " batch_normalization_41 (Bat  (None, 16, 16, 64)       256       \n",
      " chNormalization)                                                \n",
      "                                                                 \n",
      " max_pooling2d_21 (MaxPoolin  (None, 8, 8, 64)         0         \n",
      " g2D)                                                            \n",
      "                                                                 \n",
      " conv2d_32 (Conv2D)          (None, 8, 8, 64)          36928     \n",
      "                                                                 \n",
      " batch_normalization_42 (Bat  (None, 8, 8, 64)         256       \n",
      " chNormalization)                                                \n",
      "                                                                 \n",
      " flatten_10 (Flatten)        (None, 4096)              0         \n",
      "                                                                 \n",
      " dense_20 (Dense)            (None, 128)               524416    \n",
      "                                                                 \n",
      " batch_normalization_43 (Bat  (None, 128)              512       \n",
      " chNormalization)                                                \n",
      "                                                                 \n",
      " dense_21 (Dense)            (None, 10)                1290      \n",
      "                                                                 \n",
      "=================================================================\n",
      "Total params: 583,178\n",
      "Trainable params: 582,602\n",
      "Non-trainable params: 576\n",
      "_________________________________________________________________\n"
     ]
    }
   ],
   "source": [
    "model = build_model()\n",
    "model.compile(optimizer=Adam(0.0001),\n",
    "              loss=tf.keras.losses.SparseCategoricalCrossentropy(),\n",
    "              metrics=['accuracy'])\n",
    "model.summary()"
   ]
  },
  {
   "cell_type": "code",
   "execution_count": 34,
   "metadata": {
    "ExecuteTime": {
     "end_time": "2023-04-09T14:58:45.305195Z",
     "start_time": "2023-04-09T14:52:59.698531Z"
    }
   },
   "outputs": [
    {
     "name": "stdout",
     "output_type": "stream",
     "text": [
      "Epoch 1/50\n",
      "1250/1250 [==============================] - 17s 14ms/step - loss: 1.3913 - accuracy: 0.5158 - val_loss: 1.1873 - val_accuracy: 0.5867\n",
      "Epoch 2/50\n",
      "1250/1250 [==============================] - 16s 13ms/step - loss: 1.0398 - accuracy: 0.6410 - val_loss: 1.0252 - val_accuracy: 0.6390\n",
      "Epoch 3/50\n",
      "1250/1250 [==============================] - 16s 13ms/step - loss: 0.9036 - accuracy: 0.6857 - val_loss: 1.0481 - val_accuracy: 0.6377\n",
      "Epoch 4/50\n",
      "1250/1250 [==============================] - 16s 13ms/step - loss: 0.8076 - accuracy: 0.7226 - val_loss: 0.9481 - val_accuracy: 0.6735\n",
      "Epoch 5/50\n",
      "1250/1250 [==============================] - 16s 13ms/step - loss: 0.7245 - accuracy: 0.7507 - val_loss: 0.9469 - val_accuracy: 0.6776\n",
      "Epoch 6/50\n",
      "1250/1250 [==============================] - 16s 13ms/step - loss: 0.6584 - accuracy: 0.7746 - val_loss: 0.9352 - val_accuracy: 0.6840\n",
      "Epoch 7/50\n",
      "1250/1250 [==============================] - 16s 13ms/step - loss: 0.5942 - accuracy: 0.7960 - val_loss: 0.9365 - val_accuracy: 0.6866\n",
      "Epoch 8/50\n",
      "1250/1250 [==============================] - 16s 13ms/step - loss: 0.5350 - accuracy: 0.8191 - val_loss: 0.9394 - val_accuracy: 0.6913\n",
      "Epoch 9/50\n",
      "1250/1250 [==============================] - 16s 13ms/step - loss: 0.4886 - accuracy: 0.8363 - val_loss: 0.9642 - val_accuracy: 0.6831\n",
      "Epoch 10/50\n",
      "1250/1250 [==============================] - 16s 13ms/step - loss: 0.4388 - accuracy: 0.8562 - val_loss: 0.9967 - val_accuracy: 0.6811\n",
      "Epoch 11/50\n",
      "1250/1250 [==============================] - 17s 14ms/step - loss: 0.3972 - accuracy: 0.8682 - val_loss: 1.0196 - val_accuracy: 0.6791\n",
      "Epoch 12/50\n",
      "1250/1250 [==============================] - 16s 13ms/step - loss: 0.3616 - accuracy: 0.8810 - val_loss: 1.0151 - val_accuracy: 0.6818\n",
      "Epoch 13/50\n",
      "1250/1250 [==============================] - 16s 13ms/step - loss: 0.3272 - accuracy: 0.8934 - val_loss: 1.0478 - val_accuracy: 0.6820\n",
      "Epoch 13: early stopping\n"
     ]
    }
   ],
   "source": [
    "# Clear any logs from previous runs\n",
    "!rm -rf ./logs/fit_LeakyReLU_Adam/\n",
    "log_dir = \"logs/fit_LeakyReLU_Adam/\" + datetime.datetime.now().strftime(\"%Y%m%d-%H%M%S\")\n",
    "checkpoint_dir = 'tmp/adam_checkpoint'\n",
    "\n",
    "callbacks = [\n",
    "    tf.keras.callbacks.TensorBoard(\n",
    "        log_dir=log_dir, \n",
    "        histogram_freq=1),\n",
    "    tf.keras.callbacks.EarlyStopping(\n",
    "        monitor='val_accuracy', \n",
    "        patience=5,\n",
    "        mode='max',\n",
    "        verbose=1),\n",
    "    tf.keras.callbacks.ModelCheckpoint(\n",
    "        filepath=checkpoint_dir,\n",
    "        save_weights_only=True,\n",
    "        monitor='val_accuracy',\n",
    "        mode='max',\n",
    "        save_best_only=True),\n",
    "]\n",
    "\n",
    "tensorboard_callback = tf.keras.callbacks.TensorBoard(log_dir=log_dir, histogram_freq=1)\n",
    "\n",
    "history = model.fit(x_train, y_train, epochs=50, validation_split=0.2, callbacks=callbacks)"
   ]
  },
  {
   "cell_type": "code",
   "execution_count": 35,
   "metadata": {
    "ExecuteTime": {
     "end_time": "2023-04-09T14:59:21.722101Z",
     "start_time": "2023-04-09T14:59:19.343032Z"
    }
   },
   "outputs": [
    {
     "name": "stdout",
     "output_type": "stream",
     "text": [
      "313/313 [==============================] - 2s 6ms/step - loss: 0.9470 - accuracy: 0.6843\n",
      "0.6843000054359436\n"
     ]
    }
   ],
   "source": [
    "model.load_weights(checkpoint_dir)\n",
    "test_loss, test_acc = model.evaluate(x_test,  y_test)\n",
    "print(test_acc)"
   ]
  },
  {
   "cell_type": "code",
   "execution_count": 108,
   "metadata": {},
   "outputs": [
    {
     "data": {
      "text/plain": [
       "Launching TensorBoard..."
      ]
     },
     "metadata": {},
     "output_type": "display_data"
    },
    {
     "data": {
      "text/html": [
       "\n",
       "      <iframe id=\"tensorboard-frame-2882557728203b1f\" width=\"100%\" height=\"800\" frameborder=\"0\">\n",
       "      </iframe>\n",
       "      <script>\n",
       "        (function() {\n",
       "          const frame = document.getElementById(\"tensorboard-frame-2882557728203b1f\");\n",
       "          const url = new URL(\"/\", window.location);\n",
       "          const port = 6006;\n",
       "          if (port) {\n",
       "            url.port = port;\n",
       "          }\n",
       "          frame.src = url;\n",
       "        })();\n",
       "      </script>\n",
       "    "
      ],
      "text/plain": [
       "<IPython.core.display.HTML object>"
      ]
     },
     "metadata": {},
     "output_type": "display_data"
    }
   ],
   "source": [
    "#/gradient_tape\n",
    "%tensorboard --logdir logs"
   ]
  }
 ],
 "metadata": {
  "kernelspec": {
   "display_name": "Python 3 (ipykernel)",
   "language": "python",
   "name": "python3"
  },
  "language_info": {
   "codemirror_mode": {
    "name": "ipython",
    "version": 3
   },
   "file_extension": ".py",
   "mimetype": "text/x-python",
   "name": "python",
   "nbconvert_exporter": "python",
   "pygments_lexer": "ipython3",
   "version": "3.9.0"
  }
 },
 "nbformat": 4,
 "nbformat_minor": 1
}
